{
 "cells": [
  {
   "cell_type": "code",
   "execution_count": 60,
   "id": "7d3b3967",
   "metadata": {},
   "outputs": [],
   "source": [
    "import numpy as np"
   ]
  },
  {
   "cell_type": "code",
   "execution_count": 61,
   "id": "8bd7ecbe",
   "metadata": {},
   "outputs": [],
   "source": [
    "a=np.array((1,2,3,4.))"
   ]
  },
  {
   "cell_type": "code",
   "execution_count": 62,
   "id": "8910c120",
   "metadata": {},
   "outputs": [
    {
     "data": {
      "text/plain": [
       "dtype('float64')"
      ]
     },
     "execution_count": 62,
     "metadata": {},
     "output_type": "execute_result"
    }
   ],
   "source": [
    "a.dtype"
   ]
  },
  {
   "cell_type": "code",
   "execution_count": 63,
   "id": "c8abf1d2",
   "metadata": {},
   "outputs": [
    {
     "data": {
      "text/plain": [
       "array([1., 2., 3., 4.])"
      ]
     },
     "execution_count": 63,
     "metadata": {},
     "output_type": "execute_result"
    }
   ],
   "source": [
    "a"
   ]
  },
  {
   "cell_type": "code",
   "execution_count": 64,
   "id": "915868af",
   "metadata": {},
   "outputs": [
    {
     "data": {
      "text/plain": [
       "array([2., 3., 4., 5.])"
      ]
     },
     "execution_count": 64,
     "metadata": {},
     "output_type": "execute_result"
    }
   ],
   "source": [
    "a+1"
   ]
  },
  {
   "cell_type": "code",
   "execution_count": 65,
   "id": "4245595c",
   "metadata": {},
   "outputs": [
    {
     "data": {
      "text/plain": [
       "array([1., 2., 3., 4.])"
      ]
     },
     "execution_count": 65,
     "metadata": {},
     "output_type": "execute_result"
    }
   ],
   "source": [
    "a"
   ]
  },
  {
   "cell_type": "code",
   "execution_count": 66,
   "id": "1aadead1",
   "metadata": {},
   "outputs": [],
   "source": [
    "a=np.array([[1.0,2,3],[4,5,6]])"
   ]
  },
  {
   "cell_type": "code",
   "execution_count": 67,
   "id": "56375eb4",
   "metadata": {},
   "outputs": [
    {
     "data": {
      "text/plain": [
       "array([[1., 2., 3.],\n",
       "       [4., 5., 6.]])"
      ]
     },
     "execution_count": 67,
     "metadata": {},
     "output_type": "execute_result"
    }
   ],
   "source": [
    "a"
   ]
  },
  {
   "cell_type": "code",
   "execution_count": 68,
   "id": "7c1c5841",
   "metadata": {},
   "outputs": [],
   "source": [
    "b=np.array([10, 100, 1000])"
   ]
  },
  {
   "cell_type": "code",
   "execution_count": 69,
   "id": "03bbfd3e",
   "metadata": {},
   "outputs": [
    {
     "data": {
      "text/plain": [
       "array([  10,  100, 1000])"
      ]
     },
     "execution_count": 69,
     "metadata": {},
     "output_type": "execute_result"
    }
   ],
   "source": [
    "b"
   ]
  },
  {
   "cell_type": "code",
   "execution_count": 70,
   "id": "3a340b9b",
   "metadata": {},
   "outputs": [
    {
     "data": {
      "text/plain": [
       "array([5.])"
      ]
     },
     "execution_count": 70,
     "metadata": {},
     "output_type": "execute_result"
    }
   ],
   "source": [
    "a[1, 1:2]"
   ]
  },
  {
   "cell_type": "code",
   "execution_count": 71,
   "id": "fbc49e74",
   "metadata": {},
   "outputs": [
    {
     "data": {
      "text/plain": [
       "21.0"
      ]
     },
     "execution_count": 71,
     "metadata": {},
     "output_type": "execute_result"
    }
   ],
   "source": [
    "np.sum(a)"
   ]
  },
  {
   "cell_type": "code",
   "execution_count": 72,
   "id": "47c23966",
   "metadata": {},
   "outputs": [
    {
     "data": {
      "text/plain": [
       "array([5., 7., 9.])"
      ]
     },
     "execution_count": 72,
     "metadata": {},
     "output_type": "execute_result"
    }
   ],
   "source": [
    "a.sum(axis=0)"
   ]
  },
  {
   "cell_type": "code",
   "execution_count": 73,
   "id": "52d9d9ff",
   "metadata": {},
   "outputs": [
    {
     "data": {
      "text/plain": [
       "array([[[0],\n",
       "        [1],\n",
       "        [2],\n",
       "        [3],\n",
       "        [4]],\n",
       "\n",
       "       [[5],\n",
       "        [6],\n",
       "        [7],\n",
       "        [8],\n",
       "        [9]]])"
      ]
     },
     "execution_count": 73,
     "metadata": {},
     "output_type": "execute_result"
    }
   ],
   "source": [
    "np.arange(2*5).reshape(2,5, 1)"
   ]
  },
  {
   "cell_type": "code",
   "execution_count": 82,
   "id": "9200f138",
   "metadata": {},
   "outputs": [],
   "source": [
    "import pandas as pd"
   ]
  },
  {
   "cell_type": "code",
   "execution_count": 98,
   "id": "bb735453",
   "metadata": {},
   "outputs": [
    {
     "name": "stdout",
     "output_type": "stream",
     "text": [
      "<class 'pandas.core.frame.DataFrame'>\n",
      "RangeIndex: 4 entries, 0 to 3\n",
      "Data columns (total 6 columns):\n",
      " #   Column  Non-Null Count  Dtype  \n",
      "---  ------  --------------  -----  \n",
      " 0   用户id    4 non-null      int64  \n",
      " 1   姓名      4 non-null      object \n",
      " 2   年龄      4 non-null      int64  \n",
      " 3   国家      4 non-null      object \n",
      " 4   分数      4 non-null      float64\n",
      " 5   大陆      4 non-null      object \n",
      "dtypes: float64(1), int64(2), object(3)\n",
      "memory usage: 320.0+ bytes\n"
     ]
    }
   ],
   "source": [
    "pd.read_excel(\"课程参与者.xlsx\").info()"
   ]
  },
  {
   "cell_type": "code",
   "execution_count": 96,
   "id": "b4a7637f",
   "metadata": {},
   "outputs": [
    {
     "data": {
      "text/html": [
       "<div>\n",
       "<style scoped>\n",
       "    .dataframe tbody tr th:only-of-type {\n",
       "        vertical-align: middle;\n",
       "    }\n",
       "\n",
       "    .dataframe tbody tr th {\n",
       "        vertical-align: top;\n",
       "    }\n",
       "\n",
       "    .dataframe thead th {\n",
       "        text-align: right;\n",
       "    }\n",
       "</style>\n",
       "<table border=\"1\" class=\"dataframe\">\n",
       "  <thead>\n",
       "    <tr style=\"text-align: right;\">\n",
       "      <th></th>\n",
       "      <th>姓名</th>\n",
       "      <th>年龄</th>\n",
       "      <th>国家</th>\n",
       "      <th>分数</th>\n",
       "      <th>大陆</th>\n",
       "    </tr>\n",
       "  </thead>\n",
       "  <tbody>\n",
       "    <tr>\n",
       "      <th>1001</th>\n",
       "      <td>马克</td>\n",
       "      <td>55</td>\n",
       "      <td>意大利</td>\n",
       "      <td>4.5</td>\n",
       "      <td>欧洲</td>\n",
       "    </tr>\n",
       "    <tr>\n",
       "      <th>1000</th>\n",
       "      <td>约翰</td>\n",
       "      <td>33</td>\n",
       "      <td>美国</td>\n",
       "      <td>6.7</td>\n",
       "      <td>美洲</td>\n",
       "    </tr>\n",
       "    <tr>\n",
       "      <th>1002</th>\n",
       "      <td>提姆</td>\n",
       "      <td>41</td>\n",
       "      <td>美国</td>\n",
       "      <td>3.9</td>\n",
       "      <td>美洲</td>\n",
       "    </tr>\n",
       "    <tr>\n",
       "      <th>1003</th>\n",
       "      <td>珍妮</td>\n",
       "      <td>12</td>\n",
       "      <td>德国</td>\n",
       "      <td>9.0</td>\n",
       "      <td>欧洲</td>\n",
       "    </tr>\n",
       "  </tbody>\n",
       "</table>\n",
       "</div>"
      ],
      "text/plain": [
       "      姓名  年龄   国家   分数  大陆\n",
       "1001  马克  55  意大利  4.5  欧洲\n",
       "1000  约翰  33   美国  6.7  美洲\n",
       "1002  提姆  41   美国  3.9  美洲\n",
       "1003  珍妮  12   德国  9.0  欧洲"
      ]
     },
     "execution_count": 96,
     "metadata": {},
     "output_type": "execute_result"
    }
   ],
   "source": [
    "data = [[\"马克\", 55, \"意大利\", 4.5, \"欧洲\"],\n",
    "                [\"约翰\", 33, \"美国\", 6.7, \"美洲\"],\n",
    "                [\"提姆\", 41, \"美国\", 3.9, \"美洲\"],\n",
    "                [\"珍妮\", 12, \"德国\", 9.0, \"欧洲\"]]\n",
    "df = pd.DataFrame(data=data,     \n",
    "                          columns=[\"姓名\", \"年龄\", \"国家\", \"分数\", \"大陆\"],\n",
    "                          index=[1001, 1000, 1002, 1003])\n",
    "df "
   ]
  },
  {
   "cell_type": "code",
   "execution_count": 99,
   "id": "30bb815f",
   "metadata": {},
   "outputs": [
    {
     "data": {
      "text/html": [
       "<div>\n",
       "<style scoped>\n",
       "    .dataframe tbody tr th:only-of-type {\n",
       "        vertical-align: middle;\n",
       "    }\n",
       "\n",
       "    .dataframe tbody tr th {\n",
       "        vertical-align: top;\n",
       "    }\n",
       "\n",
       "    .dataframe thead th {\n",
       "        text-align: right;\n",
       "    }\n",
       "</style>\n",
       "<table border=\"1\" class=\"dataframe\">\n",
       "  <thead>\n",
       "    <tr style=\"text-align: right;\">\n",
       "      <th></th>\n",
       "      <th>姓名</th>\n",
       "      <th>年龄</th>\n",
       "      <th>国家</th>\n",
       "      <th>分数</th>\n",
       "      <th>大陆</th>\n",
       "    </tr>\n",
       "  </thead>\n",
       "  <tbody>\n",
       "    <tr>\n",
       "      <th>0</th>\n",
       "      <td>马克</td>\n",
       "      <td>55</td>\n",
       "      <td>意大利</td>\n",
       "      <td>4.5</td>\n",
       "      <td>欧洲</td>\n",
       "    </tr>\n",
       "    <tr>\n",
       "      <th>1</th>\n",
       "      <td>约翰</td>\n",
       "      <td>33</td>\n",
       "      <td>美国</td>\n",
       "      <td>6.7</td>\n",
       "      <td>美洲</td>\n",
       "    </tr>\n",
       "    <tr>\n",
       "      <th>2</th>\n",
       "      <td>提姆</td>\n",
       "      <td>41</td>\n",
       "      <td>美国</td>\n",
       "      <td>3.9</td>\n",
       "      <td>美洲</td>\n",
       "    </tr>\n",
       "    <tr>\n",
       "      <th>3</th>\n",
       "      <td>珍妮</td>\n",
       "      <td>12</td>\n",
       "      <td>德国</td>\n",
       "      <td>9.0</td>\n",
       "      <td>欧洲</td>\n",
       "    </tr>\n",
       "  </tbody>\n",
       "</table>\n",
       "</div>"
      ],
      "text/plain": [
       "   姓名  年龄   国家   分数  大陆\n",
       "0  马克  55  意大利  4.5  欧洲\n",
       "1  约翰  33   美国  6.7  美洲\n",
       "2  提姆  41   美国  3.9  美洲\n",
       "3  珍妮  12   德国  9.0  欧洲"
      ]
     },
     "execution_count": 99,
     "metadata": {},
     "output_type": "execute_result"
    }
   ],
   "source": [
    "data = [[\"马克\", 55, \"意大利\", 4.5, \"欧洲\"],\n",
    "                [\"约翰\", 33, \"美国\", 6.7, \"美洲\"],\n",
    "                [\"提姆\", 41, \"美国\", 3.9, \"美洲\"],\n",
    "                [\"珍妮\", 12, \"德国\", 9.0, \"欧洲\"]]\n",
    "df = pd.DataFrame(data=data,     \n",
    "                          columns=[\"姓名\", \"年龄\", \"国家\", \"分数\", \"大陆\"])\n",
    "df "
   ]
  },
  {
   "cell_type": "code",
   "execution_count": null,
   "id": "5911f8c5",
   "metadata": {},
   "outputs": [],
   "source": []
  }
 ],
 "metadata": {
  "kernelspec": {
   "display_name": "Python 3",
   "language": "python",
   "name": "python3"
  },
  "language_info": {
   "codemirror_mode": {
    "name": "ipython",
    "version": 3
   },
   "file_extension": ".py",
   "mimetype": "text/x-python",
   "name": "python",
   "nbconvert_exporter": "python",
   "pygments_lexer": "ipython3",
   "version": "3.8.8"
  }
 },
 "nbformat": 4,
 "nbformat_minor": 5
}
