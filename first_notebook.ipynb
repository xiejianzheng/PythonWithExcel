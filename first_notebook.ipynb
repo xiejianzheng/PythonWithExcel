{
 "cells": [
  {
   "cell_type": "code",
   "execution_count": 2,
   "id": "7d3b3967",
   "metadata": {},
   "outputs": [],
   "source": [
    "import numpy as np"
   ]
  },
  {
   "cell_type": "code",
   "execution_count": 3,
   "id": "8bd7ecbe",
   "metadata": {},
   "outputs": [],
   "source": [
    "a=np.array((1,2,3,4.))"
   ]
  },
  {
   "cell_type": "code",
   "execution_count": 4,
   "id": "8910c120",
   "metadata": {},
   "outputs": [
    {
     "data": {
      "text/plain": [
       "dtype('float64')"
      ]
     },
     "execution_count": 4,
     "metadata": {},
     "output_type": "execute_result"
    }
   ],
   "source": [
    "a.dtype"
   ]
  },
  {
   "cell_type": "code",
   "execution_count": 5,
   "id": "c8abf1d2",
   "metadata": {},
   "outputs": [
    {
     "data": {
      "text/plain": [
       "array([1., 2., 3., 4.])"
      ]
     },
     "execution_count": 5,
     "metadata": {},
     "output_type": "execute_result"
    }
   ],
   "source": [
    "a"
   ]
  },
  {
   "cell_type": "code",
   "execution_count": 6,
   "id": "915868af",
   "metadata": {},
   "outputs": [
    {
     "data": {
      "text/plain": [
       "array([2., 3., 4., 5.])"
      ]
     },
     "execution_count": 6,
     "metadata": {},
     "output_type": "execute_result"
    }
   ],
   "source": [
    "a+1"
   ]
  },
  {
   "cell_type": "code",
   "execution_count": 7,
   "id": "4245595c",
   "metadata": {},
   "outputs": [
    {
     "data": {
      "text/plain": [
       "array([1., 2., 3., 4.])"
      ]
     },
     "execution_count": 7,
     "metadata": {},
     "output_type": "execute_result"
    }
   ],
   "source": [
    "a"
   ]
  },
  {
   "cell_type": "code",
   "execution_count": 17,
   "id": "1aadead1",
   "metadata": {},
   "outputs": [],
   "source": [
    "a=np.array([[1.0,2,3],[4,5,6]])"
   ]
  },
  {
   "cell_type": "code",
   "execution_count": 18,
   "id": "56375eb4",
   "metadata": {},
   "outputs": [
    {
     "data": {
      "text/plain": [
       "array([[1., 2., 3.],\n",
       "       [4., 5., 6.]])"
      ]
     },
     "execution_count": 18,
     "metadata": {},
     "output_type": "execute_result"
    }
   ],
   "source": [
    "a"
   ]
  },
  {
   "cell_type": "code",
   "execution_count": 19,
   "id": "7c1c5841",
   "metadata": {},
   "outputs": [],
   "source": [
    "b=np.array([10, 100, 1000])"
   ]
  },
  {
   "cell_type": "code",
   "execution_count": 20,
   "id": "03bbfd3e",
   "metadata": {},
   "outputs": [
    {
     "data": {
      "text/plain": [
       "array([  10,  100, 1000])"
      ]
     },
     "execution_count": 20,
     "metadata": {},
     "output_type": "execute_result"
    }
   ],
   "source": [
    "b"
   ]
  },
  {
   "cell_type": "code",
   "execution_count": 29,
   "id": "3a340b9b",
   "metadata": {},
   "outputs": [
    {
     "data": {
      "text/plain": [
       "array([5.])"
      ]
     },
     "execution_count": 29,
     "metadata": {},
     "output_type": "execute_result"
    }
   ],
   "source": [
    "a[1, 1:2]"
   ]
  },
  {
   "cell_type": "code",
   "execution_count": 22,
   "id": "fbc49e74",
   "metadata": {},
   "outputs": [
    {
     "data": {
      "text/plain": [
       "21.0"
      ]
     },
     "execution_count": 22,
     "metadata": {},
     "output_type": "execute_result"
    }
   ],
   "source": [
    "np.sum(a)"
   ]
  },
  {
   "cell_type": "code",
   "execution_count": 25,
   "id": "47c23966",
   "metadata": {},
   "outputs": [
    {
     "data": {
      "text/plain": [
       "array([5., 7., 9.])"
      ]
     },
     "execution_count": 25,
     "metadata": {},
     "output_type": "execute_result"
    }
   ],
   "source": [
    "a.sum(axis=0)"
   ]
  },
  {
   "cell_type": "code",
   "execution_count": 31,
   "id": "52d9d9ff",
   "metadata": {},
   "outputs": [
    {
     "data": {
      "text/plain": [
       "array([[[0],\n",
       "        [1],\n",
       "        [2],\n",
       "        [3],\n",
       "        [4]],\n",
       "\n",
       "       [[5],\n",
       "        [6],\n",
       "        [7],\n",
       "        [8],\n",
       "        [9]]])"
      ]
     },
     "execution_count": 31,
     "metadata": {},
     "output_type": "execute_result"
    }
   ],
   "source": [
    "np.arange(2*5).reshape(2,5, 1)"
   ]
  },
  {
   "cell_type": "code",
   "execution_count": 34,
   "id": "9200f138",
   "metadata": {},
   "outputs": [
    {
     "name": "stdout",
     "output_type": "stream",
     "text": [
      "\n",
      "        randn(d0, d1, ..., dn)\n",
      "\n",
      "        Return a sample (or samples) from the \"standard normal\" distribution.\n",
      "\n",
      "        .. note::\n",
      "            This is a convenience function for users porting code from Matlab,\n",
      "            and wraps `standard_normal`. That function takes a\n",
      "            tuple to specify the size of the output, which is consistent with\n",
      "            other NumPy functions like `numpy.zeros` and `numpy.ones`.\n",
      "\n",
      "        .. note::\n",
      "            New code should use the ``standard_normal`` method of a ``default_rng()``\n",
      "            instance instead; please see the :ref:`random-quick-start`.\n",
      "\n",
      "        If positive int_like arguments are provided, `randn` generates an array\n",
      "        of shape ``(d0, d1, ..., dn)``, filled\n",
      "        with random floats sampled from a univariate \"normal\" (Gaussian)\n",
      "        distribution of mean 0 and variance 1. A single float randomly sampled\n",
      "        from the distribution is returned if no argument is provided.\n",
      "\n",
      "        Parameters\n",
      "        ----------\n",
      "        d0, d1, ..., dn : int, optional\n",
      "            The dimensions of the returned array, must be non-negative.\n",
      "            If no argument is given a single Python float is returned.\n",
      "\n",
      "        Returns\n",
      "        -------\n",
      "        Z : ndarray or float\n",
      "            A ``(d0, d1, ..., dn)``-shaped array of floating-point samples from\n",
      "            the standard normal distribution, or a single such float if\n",
      "            no parameters were supplied.\n",
      "\n",
      "        See Also\n",
      "        --------\n",
      "        standard_normal : Similar, but takes a tuple as its argument.\n",
      "        normal : Also accepts mu and sigma arguments.\n",
      "        Generator.standard_normal: which should be used for new code.\n",
      "\n",
      "        Notes\n",
      "        -----\n",
      "        For random samples from :math:`N(\\mu, \\sigma^2)`, use:\n",
      "\n",
      "        ``sigma * np.random.randn(...) + mu``\n",
      "\n",
      "        Examples\n",
      "        --------\n",
      "        >>> np.random.randn()\n",
      "        2.1923875335537315  # random\n",
      "\n",
      "        Two-by-four array of samples from N(3, 6.25):\n",
      "\n",
      "        >>> 3 + 2.5 * np.random.randn(2, 4)\n",
      "        array([[-4.49401501,  4.00950034, -1.81814867,  7.29718677],   # random\n",
      "               [ 0.39924804,  4.68456316,  4.99394529,  4.84057254]])  # random\n",
      "\n",
      "        \n"
     ]
    }
   ],
   "source": [
    "print(np.random.randn.__doc__)"
   ]
  },
  {
   "cell_type": "code",
   "execution_count": null,
   "id": "bb735453",
   "metadata": {},
   "outputs": [],
   "source": []
  }
 ],
 "metadata": {
  "kernelspec": {
   "display_name": "Python 3",
   "language": "python",
   "name": "python3"
  },
  "language_info": {
   "codemirror_mode": {
    "name": "ipython",
    "version": 3
   },
   "file_extension": ".py",
   "mimetype": "text/x-python",
   "name": "python",
   "nbconvert_exporter": "python",
   "pygments_lexer": "ipython3",
   "version": "3.8.8"
  }
 },
 "nbformat": 4,
 "nbformat_minor": 5
}
