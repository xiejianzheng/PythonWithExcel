{
 "cells": [
  {
   "cell_type": "code",
   "execution_count": 30,
   "id": "d418897a",
   "metadata": {},
   "outputs": [
    {
     "data": {
      "text/html": [
       "<div>\n",
       "<style scoped>\n",
       "    .dataframe tbody tr th:only-of-type {\n",
       "        vertical-align: middle;\n",
       "    }\n",
       "\n",
       "    .dataframe tbody tr th {\n",
       "        vertical-align: top;\n",
       "    }\n",
       "\n",
       "    .dataframe thead th {\n",
       "        text-align: right;\n",
       "    }\n",
       "</style>\n",
       "<table border=\"1\" class=\"dataframe\">\n",
       "  <thead>\n",
       "    <tr style=\"text-align: right;\">\n",
       "      <th></th>\n",
       "      <th>水果</th>\n",
       "      <th>区域</th>\n",
       "      <th>收入</th>\n",
       "      <th>增长率</th>\n",
       "    </tr>\n",
       "  </thead>\n",
       "  <tbody>\n",
       "    <tr>\n",
       "      <th>0</th>\n",
       "      <td>橙</td>\n",
       "      <td>北方</td>\n",
       "      <td>12.30</td>\n",
       "      <td>0.3</td>\n",
       "    </tr>\n",
       "    <tr>\n",
       "      <th>1</th>\n",
       "      <td>苹果</td>\n",
       "      <td>南方</td>\n",
       "      <td>10.55</td>\n",
       "      <td>-0.3</td>\n",
       "    </tr>\n",
       "    <tr>\n",
       "      <th>2</th>\n",
       "      <td>橙</td>\n",
       "      <td>南方</td>\n",
       "      <td>22.00</td>\n",
       "      <td>0.1</td>\n",
       "    </tr>\n",
       "    <tr>\n",
       "      <th>3</th>\n",
       "      <td>香蕉</td>\n",
       "      <td>南方</td>\n",
       "      <td>5.90</td>\n",
       "      <td>0.2</td>\n",
       "    </tr>\n",
       "    <tr>\n",
       "      <th>4</th>\n",
       "      <td>香蕉</td>\n",
       "      <td>北方</td>\n",
       "      <td>31.30</td>\n",
       "      <td>0.3</td>\n",
       "    </tr>\n",
       "    <tr>\n",
       "      <th>5</th>\n",
       "      <td>橙</td>\n",
       "      <td>北方</td>\n",
       "      <td>13.10</td>\n",
       "      <td>0.5</td>\n",
       "    </tr>\n",
       "  </tbody>\n",
       "</table>\n",
       "</div>"
      ],
      "text/plain": [
       "   水果  区域     收入  增长率\n",
       "0   橙  北方  12.30  0.3\n",
       "1  苹果  南方  10.55 -0.3\n",
       "2   橙  南方  22.00  0.1\n",
       "3  香蕉  南方   5.90  0.2\n",
       "4  香蕉  北方  31.30  0.3\n",
       "5   橙  北方  13.10  0.5"
      ]
     },
     "execution_count": 30,
     "metadata": {},
     "output_type": "execute_result"
    }
   ],
   "source": [
    "import pandas as pd\n",
    "data = [\n",
    "    [\"橙\", \"北方\", 12.30, .3],\n",
    "    [\"苹果\", \"南方\", 10.55, -.3],\n",
    "    [\"橙\", \"南方\", 22.00, .1],\n",
    "    [\"香蕉\", \"南方\", 5.90, .2],\n",
    "    [\"香蕉\", \"北方\", 31.30, .3],\n",
    "    [\"橙\", \"北方\", 13.10, .5],    \n",
    "    ]\n",
    "sales = pd.DataFrame(\n",
    "    data=data,\n",
    "    columns=[\"水果\",\"区域\",\"收入\", \"增长率\"])\n",
    "sales"
   ]
  },
  {
   "cell_type": "code",
   "execution_count": 43,
   "id": "fc507383",
   "metadata": {},
   "outputs": [
    {
     "data": {
      "text/html": [
       "<div>\n",
       "<style scoped>\n",
       "    .dataframe tbody tr th:only-of-type {\n",
       "        vertical-align: middle;\n",
       "    }\n",
       "\n",
       "    .dataframe tbody tr th {\n",
       "        vertical-align: top;\n",
       "    }\n",
       "\n",
       "    .dataframe thead th {\n",
       "        text-align: right;\n",
       "    }\n",
       "</style>\n",
       "<table border=\"1\" class=\"dataframe\">\n",
       "  <thead>\n",
       "    <tr style=\"text-align: right;\">\n",
       "      <th>区域</th>\n",
       "      <th>北方</th>\n",
       "      <th>南方</th>\n",
       "      <th>平均值</th>\n",
       "    </tr>\n",
       "    <tr>\n",
       "      <th>水果</th>\n",
       "      <th></th>\n",
       "      <th></th>\n",
       "      <th></th>\n",
       "    </tr>\n",
       "  </thead>\n",
       "  <tbody>\n",
       "    <tr>\n",
       "      <th>橙</th>\n",
       "      <td>25.4</td>\n",
       "      <td>22.00</td>\n",
       "      <td>47.40</td>\n",
       "    </tr>\n",
       "    <tr>\n",
       "      <th>苹果</th>\n",
       "      <td>NaN</td>\n",
       "      <td>10.55</td>\n",
       "      <td>10.55</td>\n",
       "    </tr>\n",
       "    <tr>\n",
       "      <th>香蕉</th>\n",
       "      <td>31.3</td>\n",
       "      <td>5.90</td>\n",
       "      <td>37.20</td>\n",
       "    </tr>\n",
       "    <tr>\n",
       "      <th>平均值</th>\n",
       "      <td>56.7</td>\n",
       "      <td>38.45</td>\n",
       "      <td>95.15</td>\n",
       "    </tr>\n",
       "  </tbody>\n",
       "</table>\n",
       "</div>"
      ],
      "text/plain": [
       "区域     北方     南方    平均值\n",
       "水果                     \n",
       "橙    25.4  22.00  47.40\n",
       "苹果    NaN  10.55  10.55\n",
       "香蕉   31.3   5.90  37.20\n",
       "平均值  56.7  38.45  95.15"
      ]
     },
     "execution_count": 43,
     "metadata": {},
     "output_type": "execute_result"
    }
   ],
   "source": [
    "pivot = pd.pivot_table(\n",
    "    sales,\n",
    "    index=[\"水果\"],\n",
    "    columns=[\"区域\"],\n",
    "    aggfunc=\"sum\",\n",
    "    values=\"收入\",\n",
    "    margins=True,\n",
    "    margins_name=\"平均值\")\n",
    "pivot"
   ]
  },
  {
   "cell_type": "code",
   "execution_count": 42,
   "id": "bc7c532c",
   "metadata": {},
   "outputs": [
    {
     "data": {
      "text/html": [
       "<div>\n",
       "<style scoped>\n",
       "    .dataframe tbody tr th:only-of-type {\n",
       "        vertical-align: middle;\n",
       "    }\n",
       "\n",
       "    .dataframe tbody tr th {\n",
       "        vertical-align: top;\n",
       "    }\n",
       "\n",
       "    .dataframe thead th {\n",
       "        text-align: right;\n",
       "    }\n",
       "</style>\n",
       "<table border=\"1\" class=\"dataframe\">\n",
       "  <thead>\n",
       "    <tr style=\"text-align: right;\">\n",
       "      <th>区域</th>\n",
       "      <th>水果</th>\n",
       "      <th>北方</th>\n",
       "      <th>南方</th>\n",
       "    </tr>\n",
       "  </thead>\n",
       "  <tbody>\n",
       "    <tr>\n",
       "      <th>0</th>\n",
       "      <td>橙</td>\n",
       "      <td>25.4</td>\n",
       "      <td>22.00</td>\n",
       "    </tr>\n",
       "    <tr>\n",
       "      <th>1</th>\n",
       "      <td>苹果</td>\n",
       "      <td>NaN</td>\n",
       "      <td>10.55</td>\n",
       "    </tr>\n",
       "    <tr>\n",
       "      <th>2</th>\n",
       "      <td>香蕉</td>\n",
       "      <td>31.3</td>\n",
       "      <td>5.90</td>\n",
       "    </tr>\n",
       "  </tbody>\n",
       "</table>\n",
       "</div>"
      ],
      "text/plain": [
       "区域  水果    北方     南方\n",
       "0    橙  25.4  22.00\n",
       "1   苹果   NaN  10.55\n",
       "2   香蕉  31.3   5.90"
      ]
     },
     "execution_count": 42,
     "metadata": {},
     "output_type": "execute_result"
    }
   ],
   "source": [
    "\n",
    "pivot.iloc[:-1,:-1].reset_index()"
   ]
  },
  {
   "cell_type": "code",
   "execution_count": 46,
   "id": "67951595",
   "metadata": {},
   "outputs": [
    {
     "data": {
      "text/html": [
       "<div>\n",
       "<style scoped>\n",
       "    .dataframe tbody tr th:only-of-type {\n",
       "        vertical-align: middle;\n",
       "    }\n",
       "\n",
       "    .dataframe tbody tr th {\n",
       "        vertical-align: top;\n",
       "    }\n",
       "\n",
       "    .dataframe thead th {\n",
       "        text-align: right;\n",
       "    }\n",
       "</style>\n",
       "<table border=\"1\" class=\"dataframe\">\n",
       "  <thead>\n",
       "    <tr style=\"text-align: right;\">\n",
       "      <th></th>\n",
       "      <th>水果</th>\n",
       "      <th>区域</th>\n",
       "      <th>收入</th>\n",
       "    </tr>\n",
       "  </thead>\n",
       "  <tbody>\n",
       "    <tr>\n",
       "      <th>0</th>\n",
       "      <td>橙</td>\n",
       "      <td>北方</td>\n",
       "      <td>25.4</td>\n",
       "    </tr>\n",
       "    <tr>\n",
       "      <th>1</th>\n",
       "      <td>苹果</td>\n",
       "      <td>北方</td>\n",
       "      <td>NaN</td>\n",
       "    </tr>\n",
       "    <tr>\n",
       "      <th>2</th>\n",
       "      <td>香蕉</td>\n",
       "      <td>北方</td>\n",
       "      <td>31.3</td>\n",
       "    </tr>\n",
       "  </tbody>\n",
       "</table>\n",
       "</div>"
      ],
      "text/plain": [
       "   水果  区域    收入\n",
       "0   橙  北方  25.4\n",
       "1  苹果  北方   NaN\n",
       "2  香蕉  北方  31.3"
      ]
     },
     "execution_count": 46,
     "metadata": {},
     "output_type": "execute_result"
    }
   ],
   "source": [
    "pd.melt(pivot.iloc[:-1,:-1].reset_index(),\n",
    "                 id_vars=\"水果\",\n",
    "                 value_vars=[\"北方\", \"南方\"], value_name=\"收入\")"
   ]
  },
  {
   "cell_type": "code",
   "execution_count": 53,
   "id": "294e91ef",
   "metadata": {},
   "outputs": [
    {
     "data": {
      "text/plain": [
       "<AxesSubplot:xlabel='水果'>"
      ]
     },
     "execution_count": 53,
     "metadata": {},
     "output_type": "execute_result"
    },
    {
     "data": {
      "image/png": "[encoded data removed]",
      "text/plain": [
       "<Figure size 432x288 with 1 Axes>"
      ]
     },
     "metadata": {
      "needs_background": "light"
     },
     "output_type": "display_data"
    }
   ],
   "source": [
    "import matplotlib.pyplot as plt\n",
    "plt.rcParams['font.sans-serif']=['TsangerJinKai01JF'] #Show Chinese label\n",
    "pivot.plot()"
   ]
  },
  {
   "cell_type": "code",
   "execution_count": null,
   "id": "8e89b252",
   "metadata": {},
   "outputs": [],
   "source": []
  }
 ],
 "metadata": {
  "kernelspec": {
   "display_name": "Python 3",
   "language": "python",
   "name": "python3"
  },
  "language_info": {
   "codemirror_mode": {
    "name": "ipython",
    "version": 3
   },
   "file_extension": ".py",
   "mimetype": "text/x-python",
   "name": "python",
   "nbconvert_exporter": "python",
   "pygments_lexer": "ipython3",
   "version": "3.8.8"
  }
 },
 "nbformat": 4,
 "nbformat_minor": 5
}
